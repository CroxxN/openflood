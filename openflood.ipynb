{
  "cells": [
    {
      "cell_type": "code",
      "execution_count": null,
      "metadata": {},
      "outputs": [],
      "source": [
        "!pip install numpy pandas scikit-learn matplotlib"
      ]
    },
    {
      "cell_type": "code",
      "execution_count": 41,
      "metadata": {
        "id": "UpehZMn5BBud"
      },
      "outputs": [],
      "source": [
        "import numpy as np\n",
        "import pandas as pd\n",
        "from sklearn.model_selection import train_test_split\n",
        "from sklearn.linear_model import LogisticRegression\n",
        "from sklearn.metrics import accuracy_score\n",
        "import numpy as np\n",
        "import pandas as pd\n",
        "import sklearn as sk\n",
        "from sklearn.model_selection import train_test_split\n",
        "from sklearn.preprocessing import StandardScaler\n",
        "from sklearn.feature_extraction.text import CountVectorizer\n",
        "from sklearn.feature_extraction.text import TfidfVectorizer"
      ]
    },
    {
      "cell_type": "code",
      "execution_count": null,
      "metadata": {
        "colab": {
          "base_uri": "https://localhost:8080/",
          "height": 224
        },
        "id": "coYqAdt8Tw_-",
        "outputId": "ddc27143-b510-465d-dabd-e0d188f407f6"
      },
      "outputs": [],
      "source": [
        "data = pd.read_csv('Rainfall.csv',header=None)\n",
        "data1 = pd.read_csv('Rainfall.csv')\n",
        "data=data.drop(0)\n",
        "for i in range(1,118):\n",
        "  data.loc[i, 0]= data[0][i].replace(' ','').replace('&','0')\n",
        "data.infer_objects(copy=False)\n",
        "vectorizer = TfidfVectorizer()\n",
        "vectorizer.fit(data[0])\n",
        "print(vectorizer.vocabulary_)\n",
        "# vector = vectorizer.transform(data['SUBDIVISION'])\n",
        "# print(vector.shape)\n",
        "# print(type(vector))\n",
        "# print(vector.toarray())\n",
        "for i in range(1,118):\n",
        "  data.loc[i, 0]=int(vectorizer.vocabulary_[data.loc[i, 0].lower().strip()])\n",
        "\n",
        "data.head()"
      ]
    },
    {
      "cell_type": "code",
      "execution_count": null,
      "metadata": {
        "id": "XJehQKJ9T-H1"
      },
      "outputs": [],
      "source": [
        "data[15] = data[15].replace(['YES','NO'],[1,0])\n",
        "data[15].infer_objects(copy=False)\n",
        "data = data.replace(['NA'],[0])\n",
        "data.infer_objects(copy=False)"
      ]
    },
    {
      "cell_type": "code",
      "execution_count": null,
      "metadata": {
        "colab": {
          "base_uri": "https://localhost:8080/",
          "height": 452
        },
        "id": "Q1CdLx3mjGaa",
        "outputId": "908b1655-763c-4ad7-d9e3-222736cb20b9"
      },
      "outputs": [],
      "source": [
        "import matplotlib.pyplot as plt\n",
        "%matplotlib inline\n",
        "c = data1[['JAN','FEB','MAR','APR']]\n",
        "# print(c)\n",
        "c.hist()\n",
        "plt.show()"
      ]
    },
    {
      "cell_type": "code",
      "execution_count": null,
      "metadata": {
        "colab": {
          "base_uri": "https://localhost:8080/",
          "height": 206
        },
        "id": "XH-oDqyRUNRg",
        "outputId": "3a50cba1-dff7-499a-82dd-97bbea0d16a6"
      },
      "outputs": [],
      "source": [
        "x = data.iloc[:,1:14]\n",
        "x.head()"
      ]
    },
    {
      "cell_type": "code",
      "execution_count": null,
      "metadata": {
        "colab": {
          "base_uri": "https://localhost:8080/"
        },
        "id": "WAk7SET4URJ0",
        "outputId": "40a26b61-fc50-473c-ff61-8052693016ed"
      },
      "outputs": [],
      "source": [
        "y = data.iloc[:, -1]\n",
        "y.head()"
      ]
    },
    {
      "cell_type": "code",
      "execution_count": null,
      "metadata": {
        "colab": {
          "base_uri": "https://localhost:8080/"
        },
        "id": "wPzgmoq7UWiA",
        "outputId": "0eb61b6e-b65d-4677-bde4-961d8ff71c9a"
      },
      "outputs": [],
      "source": [
        "from sklearn import preprocessing\n",
        "minmax = preprocessing.MinMaxScaler(feature_range=(0,1))\n",
        "minmax.fit(x).transform(x)"
      ]
    },
    {
      "cell_type": "code",
      "execution_count": 81,
      "metadata": {
        "id": "KP2gOkFbUeIz"
      },
      "outputs": [],
      "source": [
        "from sklearn import model_selection,neighbors\n",
        "from sklearn.model_selection import train_test_split\n",
        "x_train,x_test,y_train,y_test=train_test_split(x,y,test_size=0.2)"
      ]
    },
    {
      "cell_type": "code",
      "execution_count": null,
      "metadata": {
        "colab": {
          "base_uri": "https://localhost:8080/",
          "height": 75
        },
        "id": "UZBqJCb7Uhub",
        "outputId": "95e1388d-858e-4c47-b0fa-557e34ffbd9d"
      },
      "outputs": [],
      "source": [
        "from sklearn.ensemble import RandomForestClassifier\n",
        "model = RandomForestClassifier(max_depth=5,random_state=1)\n",
        "model = model.fit(x_train,y_train)\n",
        "model"
      ]
    },
    {
      "cell_type": "code",
      "execution_count": 83,
      "metadata": {
        "id": "dPWnTNdtVHEe"
      },
      "outputs": [],
      "source": [
        "y_pred = model.predict(x_test)"
      ]
    },
    {
      "cell_type": "code",
      "execution_count": null,
      "metadata": {
        "colab": {
          "base_uri": "https://localhost:8080/"
        },
        "id": "-40ImJzOVPHk",
        "outputId": "b9258f94-b134-416d-c69a-eb531b00bb48"
      },
      "outputs": [],
      "source": [
        "from sklearn.metrics import accuracy_score,recall_score,roc_auc_score,confusion_matrix\n",
        "print(\"\\naccuracy score:%f\"%(accuracy_score(y_test,y_pred)*100))\n",
        "print(\"recall score:%f\"%(recall_score(y_test,y_pred)*100))\n",
        "print(\"roc score:%f\"%(roc_auc_score(y_test,y_pred)*100))"
      ]
    },
    {
      "cell_type": "code",
      "execution_count": 88,
      "metadata": {
        "colab": {
          "base_uri": "https://localhost:8080/"
        },
        "id": "bk4-tzF6VS7m",
        "outputId": "ac5b2d36-cf65-40cf-ed57-59a1cbe2faf5"
      },
      "outputs": [
        {
          "name": "stdout",
          "output_type": "stream",
          "text": [
            "[0]\n"
          ]
        }
      ],
      "source": [
        "\n",
        "input_data=(1905,1.2,22.3,9.4,105.9,263.3,850.2,520.5,293.6,217.2,383.5,74.4,0.2)\n",
        "# input_data=data[1]\n",
        "input_data_as_numpy=np.asarray(input_data)\n",
        "input_data_reshaped=input_data_as_numpy.reshape(1,-1)\n",
        "minmax = preprocessing.MinMaxScaler(feature_range=(0,1))\n",
        "minmax.fit(input_data_reshaped).transform(input_data_reshaped)\n",
        "prediction=model.predict(input_data_reshaped)\n",
        "print(prediction)"
      ]
    }
  ],
  "metadata": {
    "colab": {
      "provenance": []
    },
    "kernelspec": {
      "display_name": "Python 3",
      "name": "python3"
    },
    "language_info": {
      "codemirror_mode": {
        "name": "ipython",
        "version": 3
      },
      "file_extension": ".py",
      "mimetype": "text/x-python",
      "name": "python",
      "nbconvert_exporter": "python",
      "pygments_lexer": "ipython3",
      "version": "3.12.5"
    }
  },
  "nbformat": 4,
  "nbformat_minor": 0
}
